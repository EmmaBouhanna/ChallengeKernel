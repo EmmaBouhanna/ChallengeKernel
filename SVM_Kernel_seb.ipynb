{
 "cells": [
  {
   "cell_type": "markdown",
   "id": "a9c881ad",
   "metadata": {},
   "source": [
    "# Implementing Support Vector Machines with graph kernel"
   ]
  },
  {
   "cell_type": "code",
   "execution_count": 1,
   "id": "cc106bc0",
   "metadata": {},
   "outputs": [],
   "source": [
    "import numpy as np\n",
    "import matplotlib.pyplot as plt\n",
    "import pickle\n",
    "from scipy import optimize\n",
    "import networkx as nx\n",
    "from hashlib import blake2b\n",
    "from collections import Counter, defaultdict\n",
    "import itertools\n",
    "from tqdm import tqdm\n",
    "import time\n",
    "import pandas as pd\n",
    "import grakel"
   ]
  },
  {
   "cell_type": "code",
   "execution_count": 2,
   "id": "e1e7f643",
   "metadata": {},
   "outputs": [],
   "source": [
    "#train_path = \"./data-challenge-kernel-methods-2022-2023/training_data.pkl\"\n",
    "#train_labels_path = \"./data-challenge-kernel-methods-2022-2023/training_labels.pkl\"\n",
    "#test_path = \"./data-challenge-kernel-methods-2022-2023/test_data.pkl\"\n",
    "\n",
    "train_path = \"../data/training_data.pkl\"\n",
    "train_labels_path = \"../data/training_labels.pkl\"\n",
    "test_path = \"../data/test_data.pkl\""
   ]
  },
  {
   "cell_type": "code",
   "execution_count": 3,
   "id": "6e93588f",
   "metadata": {},
   "outputs": [],
   "source": [
    "with open(train_path, \"rb\") as f:\n",
    "    train_data = pickle.load(f)\n",
    "\n",
    "with open(train_labels_path, \"rb\") as f:\n",
    "    train_labels = pickle.load(f)\n",
    "\n",
    "f.close()"
   ]
  },
  {
   "cell_type": "code",
   "execution_count": 4,
   "id": "f440ca33",
   "metadata": {},
   "outputs": [],
   "source": [
    "train_data = np.array(train_data, dtype=object)\n",
    "train_labels = np.array(train_labels, dtype=object)"
   ]
  },
  {
   "cell_type": "code",
   "execution_count": 5,
   "id": "9411ab15",
   "metadata": {},
   "outputs": [
    {
     "data": {
      "text/plain": [
       "array([-1, 1], dtype=object)"
      ]
     },
     "execution_count": 5,
     "metadata": {},
     "output_type": "execute_result"
    }
   ],
   "source": [
    "train_labels_svm = train_labels.copy()\n",
    "train_labels_svm[train_labels_svm == 0] = -1\n",
    "np.unique(train_labels_svm)"
   ]
  },
  {
   "cell_type": "code",
   "execution_count": 6,
   "id": "c8218d4b",
   "metadata": {},
   "outputs": [],
   "source": [
    "class KernelSVC:\n",
    "    \n",
    "    def __init__(self, C, kernel_mat, epsilon = 1e-3):\n",
    "        self.type = 'non-linear'\n",
    "        self.C = C                               \n",
    "        self.kernel = kernel_mat        \n",
    "        self.alpha = None\n",
    "        self.support = None\n",
    "        self.epsilon = epsilon\n",
    "        self.norm_f = None\n",
    "       \n",
    "    \n",
    "    def fit(self, X, y):\n",
    "       #### You might define here any variable needed for the rest of the code\n",
    "        N = len(y)\n",
    "        K = self.kernel(X, X)\n",
    "        \n",
    "        # Store training data\n",
    "        self.X_train = X\n",
    "        self.obs_train = y\n",
    "\n",
    "        # define matrix form of inequality constraints on dual problem\n",
    "        ineq_A = np.vstack([np.eye(N), -np.eye(N)])\n",
    "        ineq_b = np.array([self.C]*N + [0]*N)\n",
    "\n",
    "        # Lagrange dual problem\n",
    "        def loss(alpha):\n",
    "            # The dual problem is a max pb => max f = min -f\n",
    "            return .5*(alpha*y).T@K@(alpha*y) - alpha.sum()\n",
    "\n",
    "        # Partial derivate of Ld on alpha\n",
    "        def grad_loss(alpha):\n",
    "            return y*((alpha*y)@K) - 1\n",
    "\n",
    "\n",
    "        # Constraints on alpha of the shape :\n",
    "        # -  d - C*alpha  = 0\n",
    "        # -  b - A*alpha >= 0\n",
    "\n",
    "        fun_eq = lambda alpha: alpha@y\n",
    "        jac_eq = lambda alpha: y\n",
    "        fun_ineq = lambda alpha: ineq_b - ineq_A@alpha\n",
    "        jac_ineq = lambda alpha: -ineq_A\n",
    "        \n",
    "        constraints = ({'type': 'eq',  'fun': fun_eq, 'jac': jac_eq},\n",
    "                       {'type': 'ineq', \n",
    "                        'fun': fun_ineq , \n",
    "                        'jac': jac_ineq})\n",
    "        \n",
    "        time_start = time.time()\n",
    "\n",
    "        optRes = optimize.minimize(fun=lambda alpha: loss(alpha),\n",
    "                                   x0=np.ones(N), \n",
    "                                   method='SLSQP', \n",
    "                                   jac=lambda alpha: grad_loss(alpha), \n",
    "                                   constraints=constraints,\n",
    "                                   options={\"maxiter\": 10})\n",
    "        \n",
    "        print(f\"Time for optimization: {time.time() - time_start}\")\n",
    "        self.alpha = optRes.x\n",
    "\n",
    "        ## Assign the required attributes\n",
    "        margin_idx = (self.alpha >= self.epsilon)\n",
    "        sv_idx = (self.alpha >= self.epsilon) * (self.C - self.alpha >= self.epsilon)\n",
    "        self.support = X[sv_idx]\n",
    "        self.margin_points = X[margin_idx]\n",
    "        self.margin_obs = y[margin_idx]\n",
    "        self.margin_alpha = self.alpha[margin_idx]\n",
    "        self.support_obs = y[sv_idx]\n",
    "        self.support_alpha = self.alpha[sv_idx]\n",
    "        \n",
    "        # Take mean of offsets for more robust approximation\n",
    "        self.b = np.mean(y[sv_idx] - self.separating_function(self.support))\n",
    "        self.norm_f = np.sqrt(self.margin_alpha@self.kernel(self.margin_points, self.margin_points)@self.margin_alpha)\n",
    "\n",
    "\n",
    "    ### Implementation of the separting function $f$ \n",
    "    def separating_function(self,x):\n",
    "        # Input : matrix x of shape N data points times d dimension\n",
    "        # Output: vector of size N\n",
    "        \n",
    "        return (self.support_alpha*self.support_obs).T@self.kernel(self.support, x)\n",
    "    \n",
    "    \n",
    "    def predict(self, X):\n",
    "        \"\"\" Predict y values in {-1, 1} \"\"\"\n",
    "        d = self.separating_function(X)\n",
    "        return 2*(d+self.b > 0) - 1"
   ]
  },
  {
   "cell_type": "code",
   "execution_count": 7,
   "id": "c23712c5",
   "metadata": {},
   "outputs": [],
   "source": [
    "class RandomWalkKernel:\n",
    "    def __init__(self, l_walk, n_walks):\n",
    "        self.l = l_walk\n",
    "        self.n_walks = n_walks\n",
    "    \n",
    "    def perform_random_walk(self, edge_list, g, rdm_node):\n",
    "        curr_node = rdm_node\n",
    "        s = ''\n",
    "        for _ in range(self.l + 1):\n",
    "            s += str(g.nodes[curr_node]['labels'][0])\n",
    "            # Undirected graph !\n",
    "            sample_neighbor = edge_list.loc[(edge_list['source'] == curr_node) + (edge_list[\"target\"] == curr_node), :]\n",
    "            if len(sample_neighbor) == 0:\n",
    "                continue\n",
    "            else:\n",
    "                sample_neighbor = sample_neighbor.sample()\n",
    "            # Get new node\n",
    "            if sample_neighbor[\"source\"].values == curr_node:\n",
    "                next_node = sample_neighbor[\"target\"].values[0]\n",
    "            else:\n",
    "                next_node = sample_neighbor[\"source\"].values[0]\n",
    "\n",
    "            s+= str(sample_neighbor[\"labels\"].values[0][0])\n",
    "            curr_node = next_node  \n",
    "        return s\n",
    "        \n",
    "    def compute_kernel(self, g0, g1):\n",
    "        \n",
    "        # Store edge list\n",
    "        edges_g0 = nx.to_pandas_edgelist(g0)\n",
    "        edges_g1 = nx.to_pandas_edgelist(g1)\n",
    "\n",
    "        # Run random walks\n",
    "        seq_g0 = []\n",
    "        seq_g1 = []\n",
    "        for _ in range(self.n_walks):\n",
    "            rdm_node_g0 = np.random.choice(g0.nodes)\n",
    "            seq_g0.append(self.perform_random_walk(edges_g0, g0, rdm_node_g0))\n",
    "\n",
    "            rdm_node_g1 = np.random.choice(g1.nodes)\n",
    "            seq_g1.append(self.perform_random_walk(edges_g1, g1, rdm_node_g1))\n",
    "\n",
    "        # Compute kernel\n",
    "        keys, vals = np.unique(seq_g1, return_counts=True)\n",
    "        dico_g1 = dict(zip(list(keys), list(vals)))\n",
    "\n",
    "        keys, vals = np.unique(seq_g0, return_counts=True)\n",
    "        dico_g0 = dict(zip(list(keys), list(vals)))\n",
    "        common_occ = 0\n",
    "        for good_seq in np.intersect1d(seq_g0, seq_g1):\n",
    "            common_occ += min(int(dico_g0[good_seq]), int(dico_g1[good_seq]))\n",
    "        \n",
    "        common_occ /= self.n_walks\n",
    "        \n",
    "        return common_occ\n",
    "    \n",
    "    def compute_kernel_matrix(self, X, Y):\n",
    "        k = np.zeros((len(X), len(Y)))\n",
    "        for i in range(len(X)):\n",
    "            for j in range(i, len(Y)):\n",
    "                k[i, j] = self.compute_kernel(X[i], Y[j]) \n",
    "                k[j, i] = k[i,j]\n",
    "        return k"
   ]
  },
  {
   "cell_type": "code",
   "execution_count": 8,
   "id": "f5795d84",
   "metadata": {},
   "outputs": [],
   "source": [
    "class WLKernel:\n",
    "    def __init__(self, edge_attr=\"labels\", node_attr=\"labels\", iterations=3):\n",
    "        self.edge_attr = edge_attr\n",
    "        self.node_attr = node_attr\n",
    "        self.n_iter = iterations\n",
    "    \n",
    "    def _hash_label(self, label, digest_size):\n",
    "        return blake2b(label.encode(\"ascii\"), digest_size=digest_size).hexdigest()\n",
    "\n",
    "    def _neighborhood_aggregate(self, G, node, node_labels):\n",
    "        \"\"\"\n",
    "        Compute new labels for given node by aggregating\n",
    "        the labels of each node's neighbors.\n",
    "        \"\"\"\n",
    "        label_list = []\n",
    "        for nbr in G.neighbors(node):\n",
    "            prefix = \"\" if self.edge_attr is None else str(G[node][nbr][self.edge_attr])\n",
    "            label_list.append(prefix + node_labels[nbr])\n",
    "        return node_labels[node] + \"\".join(sorted(label_list))\n",
    "\n",
    "    def weisfeiler_lehman_graph_hash(self, G, digest_size=16):\n",
    "        def weisfeiler_lehman_step(G, labels):\n",
    "            \"\"\"\n",
    "            Apply neighborhood aggregation to each node\n",
    "            in the graph.\n",
    "            Computes a dictionary with labels for each node.\n",
    "            \"\"\"\n",
    "            new_labels = {}\n",
    "            for node in G.nodes():\n",
    "                label = self._neighborhood_aggregate(G, node, labels)\n",
    "                new_labels[node] = self._hash_label(label, digest_size)\n",
    "            return new_labels\n",
    "\n",
    "        # set initial node labels\n",
    "        node_labels = {u: str(dd[self.node_attr]) for u, dd in G.nodes(data=True)}\n",
    "\n",
    "        subgraph_hash_counts = {}\n",
    "        for it in range(self.n_iter):\n",
    "            node_labels = weisfeiler_lehman_step(G, node_labels)\n",
    "            counter = Counter(node_labels.values())\n",
    "            # normalize counter\n",
    "            total = np.sum(list(counter.values()))\n",
    "            for k in counter:\n",
    "                counter[k] /= total\n",
    "\n",
    "            # sort the counter, extend total counts\n",
    "            subgraph_hash_counts[it] = sorted(counter.items(), key=lambda x: x[0])\n",
    "\n",
    "        # return _hash_label(str(tuple(subgraph_hash_counts)), digest_size)\n",
    "        return subgraph_hash_counts\n",
    "    \n",
    "    \n",
    "    def compute_phi(self, Z):\n",
    "        phi_list = []\n",
    "        for g in Z:\n",
    "            phi_list.append(self.weisfeiler_lehman_graph_hash(g))\n",
    "        return phi_list\n",
    "    \n",
    "    def compute_kernel(self, wl1, wl2):\n",
    "        k = 0\n",
    "        for i in range(self.n_iter):\n",
    "            dict1 = dict(wl1[i])\n",
    "            dict2 = dict(wl2[i])\n",
    "            # take scalar product only on common keys\n",
    "            common_keys = set(dict1.keys()).intersection(set(dict2.keys()))\n",
    "            k += np.sum([dict1[c]*dict2[c] for c in common_keys])\n",
    "        return k\n",
    "\n",
    "    def compute_kernel_matrix(self, X, Y):\n",
    "        # Precompute phi to deal only with dot products\n",
    "        phi_X = self.compute_phi(X)\n",
    "        if np.array_equal(X, Y):\n",
    "            print(\"Not computing phi again as X=Y\")\n",
    "            phi_Y = phi_X.copy()\n",
    "        else:\n",
    "            phi_Y = self.compute_phi(Y)\n",
    "        ker = np.zeros((len(X), len(Y)))\n",
    "        count_iter = 0\n",
    "        if len(X) == len(Y):\n",
    "            for i in range(len(X)):\n",
    "                for j in range(i, len(Y)):\n",
    "                    ker[i, j] = self.compute_kernel(phi_X[i], phi_Y[j])\n",
    "                    ker[j, i] = ker[i,j]\n",
    "                count_iter += 1\n",
    "                if count_iter % 100 == 0:\n",
    "                    print(f\"Iteration {count_iter}\")\n",
    "        else:\n",
    "            for (i,j) in itertools.product(range(len(X)), range(len(Y))):\n",
    "                ker[i,j] = self.compute_kernel(phi_X[i], phi_Y[j])\n",
    "        print(\"Kernel computed\")\n",
    "        return ker"
   ]
  },
  {
   "cell_type": "code",
   "execution_count": null,
   "id": "57af2b15",
   "metadata": {},
   "outputs": [],
   "source": [
    "class WLOptimalAssignment:\n",
    "    '''\n",
    "    The weisfeiler lehman optimal assigment kernel that works directly\n",
    "    with networkx graphs.\n",
    "    '''\n",
    "    \n",
    "    def __init__(self,\n",
    "                 edge_attr=\"labels\",\n",
    "                 node_attr=\"labels\",\n",
    "                 n_iter=5):\n",
    "        self.n_iter = n_iter\n",
    "        \n",
    "    def prepare_input(self,\n",
    "                      G):\n",
    "        '''\n",
    "        Parameters\n",
    "        -----------\n",
    "            G: a list of networkx graphs\n",
    "        \n",
    "        Returns\n",
    "        -----------\n",
    "            H: a numpy array with the graph histograms\n",
    "        '''\n",
    "        \n",
    "        "
   ]
  },
  {
   "cell_type": "code",
   "execution_count": 9,
   "id": "391af86e",
   "metadata": {},
   "outputs": [],
   "source": [
    "from sklearn.svm import SVC"
   ]
  },
  {
   "cell_type": "code",
   "execution_count": 10,
   "id": "4660eae1",
   "metadata": {},
   "outputs": [],
   "source": [
    "from grakel.kernels import WeisfeilerLehmanOptimalAssignment"
   ]
  },
  {
   "cell_type": "code",
   "execution_count": 42,
   "id": "fd6d1c02",
   "metadata": {},
   "outputs": [],
   "source": [
    "G_train = list(grakel.graph_from_networkx(train_data,\n",
    "         node_labels_tag='labels',\n",
    "         edge_labels_tag='labels'))\n",
    "\n",
    "G_test = list(grakel.graph_from_networkx(test_data,\n",
    "         node_labels_tag='labels',\n",
    "         edge_labels_tag='labels'))\n",
    "\n",
    "def reformat_graph(g):\n",
    "    new_g = [g[0]]\n",
    "    new_g.append({key: val[0] for key, val in g[1].items()})\n",
    "    new_g.append({key: val[0] for key, val in g[2].items()})\n",
    "    return new_g\n",
    "\n",
    "G_train = [reformat_graph(g) for g in G_train]\n",
    "G_test = [reformat_graph(g) for g in G_test]\n",
    "\n",
    "wl_oa_kernel = WeisfeilerLehmanOptimalAssignment(n_iter=5)\n",
    "\n",
    "K_train = wl_oa_kernel.fit_transform(G_train)\n",
    "K_test = wl_oa_kernel.transform(G_test)\n",
    "\n",
    "#save kernel matrices\n",
    "np.save(\"../data/K_train_WL_OA_grakel.npy\", K_train)\n",
    "np.save(\"../data/K_test_WL_OA_grakel.npy\", K_test)"
   ]
  },
  {
   "cell_type": "code",
   "execution_count": 18,
   "id": "0aaf7e32",
   "metadata": {},
   "outputs": [],
   "source": [
    "wl_oa_kernel = WeisfeilerLehmanOptimalAssignment(n_iter=5)"
   ]
  },
  {
   "cell_type": "code",
   "execution_count": 19,
   "id": "6b57bd29",
   "metadata": {},
   "outputs": [],
   "source": [
    "K_train = wl_oa_kernel.fit_transform(G)"
   ]
  },
  {
   "cell_type": "code",
   "execution_count": 20,
   "id": "afa2b238",
   "metadata": {},
   "outputs": [
    {
     "data": {
      "text/plain": [
       "(5000, 5000)"
      ]
     },
     "execution_count": 20,
     "metadata": {},
     "output_type": "execute_result"
    }
   ],
   "source": [
    "K_train.shape"
   ]
  },
  {
   "cell_type": "code",
   "execution_count": 24,
   "id": "519a588d",
   "metadata": {},
   "outputs": [],
   "source": [
    "K_val = wl_oa_kernel.transform(G_train[5000:])"
   ]
  },
  {
   "cell_type": "code",
   "execution_count": 46,
   "id": "a8199abd",
   "metadata": {},
   "outputs": [],
   "source": [
    "## logistic regression\n",
    "from sklearn.linear_model import LogisticRegression"
   ]
  },
  {
   "cell_type": "code",
   "execution_count": 85,
   "id": "2e186c08",
   "metadata": {},
   "outputs": [],
   "source": [
    "clf_log = LogisticRegression(penalty='elasticnet',\n",
    "                             solver='saga',\n",
    "                             l1_ratio=0.6,\n",
    "                             class_weight=\"balanced\")"
   ]
  },
  {
   "cell_type": "code",
   "execution_count": 86,
   "id": "e7fac88f",
   "metadata": {},
   "outputs": [
    {
     "name": "stderr",
     "output_type": "stream",
     "text": [
      "/home/sebastian/anaconda3/envs/mva/lib/python3.8/site-packages/sklearn/linear_model/_sag.py:350: ConvergenceWarning: The max_iter was reached which means the coef_ did not converge\n",
      "  warnings.warn(\n"
     ]
    },
    {
     "data": {
      "text/html": [
       "<style>#sk-container-id-6 {color: black;background-color: white;}#sk-container-id-6 pre{padding: 0;}#sk-container-id-6 div.sk-toggleable {background-color: white;}#sk-container-id-6 label.sk-toggleable__label {cursor: pointer;display: block;width: 100%;margin-bottom: 0;padding: 0.3em;box-sizing: border-box;text-align: center;}#sk-container-id-6 label.sk-toggleable__label-arrow:before {content: \"▸\";float: left;margin-right: 0.25em;color: #696969;}#sk-container-id-6 label.sk-toggleable__label-arrow:hover:before {color: black;}#sk-container-id-6 div.sk-estimator:hover label.sk-toggleable__label-arrow:before {color: black;}#sk-container-id-6 div.sk-toggleable__content {max-height: 0;max-width: 0;overflow: hidden;text-align: left;background-color: #f0f8ff;}#sk-container-id-6 div.sk-toggleable__content pre {margin: 0.2em;color: black;border-radius: 0.25em;background-color: #f0f8ff;}#sk-container-id-6 input.sk-toggleable__control:checked~div.sk-toggleable__content {max-height: 200px;max-width: 100%;overflow: auto;}#sk-container-id-6 input.sk-toggleable__control:checked~label.sk-toggleable__label-arrow:before {content: \"▾\";}#sk-container-id-6 div.sk-estimator input.sk-toggleable__control:checked~label.sk-toggleable__label {background-color: #d4ebff;}#sk-container-id-6 div.sk-label input.sk-toggleable__control:checked~label.sk-toggleable__label {background-color: #d4ebff;}#sk-container-id-6 input.sk-hidden--visually {border: 0;clip: rect(1px 1px 1px 1px);clip: rect(1px, 1px, 1px, 1px);height: 1px;margin: -1px;overflow: hidden;padding: 0;position: absolute;width: 1px;}#sk-container-id-6 div.sk-estimator {font-family: monospace;background-color: #f0f8ff;border: 1px dotted black;border-radius: 0.25em;box-sizing: border-box;margin-bottom: 0.5em;}#sk-container-id-6 div.sk-estimator:hover {background-color: #d4ebff;}#sk-container-id-6 div.sk-parallel-item::after {content: \"\";width: 100%;border-bottom: 1px solid gray;flex-grow: 1;}#sk-container-id-6 div.sk-label:hover label.sk-toggleable__label {background-color: #d4ebff;}#sk-container-id-6 div.sk-serial::before {content: \"\";position: absolute;border-left: 1px solid gray;box-sizing: border-box;top: 0;bottom: 0;left: 50%;z-index: 0;}#sk-container-id-6 div.sk-serial {display: flex;flex-direction: column;align-items: center;background-color: white;padding-right: 0.2em;padding-left: 0.2em;position: relative;}#sk-container-id-6 div.sk-item {position: relative;z-index: 1;}#sk-container-id-6 div.sk-parallel {display: flex;align-items: stretch;justify-content: center;background-color: white;position: relative;}#sk-container-id-6 div.sk-item::before, #sk-container-id-6 div.sk-parallel-item::before {content: \"\";position: absolute;border-left: 1px solid gray;box-sizing: border-box;top: 0;bottom: 0;left: 50%;z-index: -1;}#sk-container-id-6 div.sk-parallel-item {display: flex;flex-direction: column;z-index: 1;position: relative;background-color: white;}#sk-container-id-6 div.sk-parallel-item:first-child::after {align-self: flex-end;width: 50%;}#sk-container-id-6 div.sk-parallel-item:last-child::after {align-self: flex-start;width: 50%;}#sk-container-id-6 div.sk-parallel-item:only-child::after {width: 0;}#sk-container-id-6 div.sk-dashed-wrapped {border: 1px dashed gray;margin: 0 0.4em 0.5em 0.4em;box-sizing: border-box;padding-bottom: 0.4em;background-color: white;}#sk-container-id-6 div.sk-label label {font-family: monospace;font-weight: bold;display: inline-block;line-height: 1.2em;}#sk-container-id-6 div.sk-label-container {text-align: center;}#sk-container-id-6 div.sk-container {/* jupyter's `normalize.less` sets `[hidden] { display: none; }` but bootstrap.min.css set `[hidden] { display: none !important; }` so we also need the `!important` here to be able to override the default hidden behavior on the sphinx rendered scikit-learn.org. See: https://github.com/scikit-learn/scikit-learn/issues/21755 */display: inline-block !important;position: relative;}#sk-container-id-6 div.sk-text-repr-fallback {display: none;}</style><div id=\"sk-container-id-6\" class=\"sk-top-container\"><div class=\"sk-text-repr-fallback\"><pre>LogisticRegression(class_weight=&#x27;balanced&#x27;, l1_ratio=0.6, penalty=&#x27;elasticnet&#x27;,\n",
       "                   solver=&#x27;saga&#x27;)</pre><b>In a Jupyter environment, please rerun this cell to show the HTML representation or trust the notebook. <br />On GitHub, the HTML representation is unable to render, please try loading this page with nbviewer.org.</b></div><div class=\"sk-container\" hidden><div class=\"sk-item\"><div class=\"sk-estimator sk-toggleable\"><input class=\"sk-toggleable__control sk-hidden--visually\" id=\"sk-estimator-id-6\" type=\"checkbox\" checked><label for=\"sk-estimator-id-6\" class=\"sk-toggleable__label sk-toggleable__label-arrow\">LogisticRegression</label><div class=\"sk-toggleable__content\"><pre>LogisticRegression(class_weight=&#x27;balanced&#x27;, l1_ratio=0.6, penalty=&#x27;elasticnet&#x27;,\n",
       "                   solver=&#x27;saga&#x27;)</pre></div></div></div></div></div>"
      ],
      "text/plain": [
       "LogisticRegression(class_weight='balanced', l1_ratio=0.6, penalty='elasticnet',\n",
       "                   solver='saga')"
      ]
     },
     "execution_count": 86,
     "metadata": {},
     "output_type": "execute_result"
    }
   ],
   "source": [
    "clf_log.fit(K_train, train_labels_svm.astype(int))"
   ]
  },
  {
   "cell_type": "code",
   "execution_count": 87,
   "id": "fb69e505",
   "metadata": {},
   "outputs": [],
   "source": [
    "y_pred = clf_log.predict(K_test)"
   ]
  },
  {
   "cell_type": "code",
   "execution_count": 88,
   "id": "d3b280ad",
   "metadata": {},
   "outputs": [
    {
     "data": {
      "text/plain": [
       "(2000,)"
      ]
     },
     "execution_count": 88,
     "metadata": {},
     "output_type": "execute_result"
    }
   ],
   "source": [
    "y_pred.shape"
   ]
  },
  {
   "cell_type": "code",
   "execution_count": 89,
   "id": "c3179784",
   "metadata": {},
   "outputs": [
    {
     "data": {
      "text/plain": [
       "(array([1226.,    0.,    0.,    0.,    0.,    0.,    0.,    0.,    0.,\n",
       "         774.]),\n",
       " array([-1. , -0.8, -0.6, -0.4, -0.2,  0. ,  0.2,  0.4,  0.6,  0.8,  1. ]),\n",
       " <BarContainer object of 10 artists>)"
      ]
     },
     "execution_count": 89,
     "metadata": {},
     "output_type": "execute_result"
    },
    {
     "data": {
      "image/png": "[encoded data removed]",
      "text/plain": [
       "<Figure size 640x480 with 1 Axes>"
      ]
     },
     "metadata": {},
     "output_type": "display_data"
    }
   ],
   "source": [
    "plt.hist(y_pred)"
   ]
  },
  {
   "cell_type": "code",
   "execution_count": 66,
   "id": "133ff77c",
   "metadata": {},
   "outputs": [
    {
     "data": {
      "text/plain": [
       "(array([1868.,    0.,    0.,    0.,    0.,    0.,    0.,    0.,    0.,\n",
       "         132.]),\n",
       " array([-1. , -0.8, -0.6, -0.4, -0.2,  0. ,  0.2,  0.4,  0.6,  0.8,  1. ]),\n",
       " <BarContainer object of 10 artists>)"
      ]
     },
     "execution_count": 66,
     "metadata": {},
     "output_type": "execute_result"
    },
    {
     "data": {
      "image/png": "[encoded data removed]",
      "text/plain": [
       "<Figure size 640x480 with 1 Axes>"
      ]
     },
     "metadata": {},
     "output_type": "display_data"
    }
   ],
   "source": [
    "plt.hist(y_pred)"
   ]
  },
  {
   "cell_type": "code",
   "execution_count": 36,
   "id": "f6067410",
   "metadata": {},
   "outputs": [
    {
     "name": "stdout",
     "output_type": "stream",
     "text": [
      "              precision    recall  f1-score   support\n",
      "\n",
      "          -1       0.98      0.99      0.99       971\n",
      "           1       0.50      0.21      0.29        29\n",
      "\n",
      "    accuracy                           0.97      1000\n",
      "   macro avg       0.74      0.60      0.64      1000\n",
      "weighted avg       0.96      0.97      0.97      1000\n",
      "\n"
     ]
    }
   ],
   "source": [
    "from sklearn.metrics import classification_report\n",
    "print(classification_report(train_labels_svm[5000:].astype(int), y_pred))"
   ]
  },
  {
   "cell_type": "code",
   "execution_count": 37,
   "id": "93e98f0b",
   "metadata": {},
   "outputs": [],
   "source": [
    "C = 1.\n",
    "model = SVC(kernel='precomputed', C=C)\n",
    "#model = KernelSVC(C=C, kernel_mat=kernel)\n",
    "model.fit(K_train, train_labels_svm[:5000].astype(int))\n",
    "\n",
    "y_pred2 = model.predict(K_val)"
   ]
  },
  {
   "cell_type": "code",
   "execution_count": 38,
   "id": "d7f43cb0",
   "metadata": {},
   "outputs": [
    {
     "name": "stdout",
     "output_type": "stream",
     "text": [
      "              precision    recall  f1-score   support\n",
      "\n",
      "          -1       0.98      0.98      0.98       971\n",
      "           1       0.39      0.38      0.39        29\n",
      "\n",
      "    accuracy                           0.96      1000\n",
      "   macro avg       0.69      0.68      0.68      1000\n",
      "weighted avg       0.96      0.96      0.96      1000\n",
      "\n"
     ]
    }
   ],
   "source": [
    "print(classification_report(train_labels_svm[5000:].astype(int), y_pred2))"
   ]
  },
  {
   "cell_type": "code",
   "execution_count": 41,
   "id": "9463341e",
   "metadata": {},
   "outputs": [
    {
     "data": {
      "text/plain": [
       "0.9166666666666666"
      ]
     },
     "execution_count": 41,
     "metadata": {},
     "output_type": "execute_result"
    }
   ],
   "source": [
    "5500/6000"
   ]
  },
  {
   "cell_type": "code",
   "execution_count": 40,
   "id": "b9a683bb",
   "metadata": {},
   "outputs": [
    {
     "data": {
      "text/plain": [
       "(array([5445.,    0.,    0.,    0.,    0.,    0.,    0.,    0.,    0.,\n",
       "         555.]),\n",
       " array([-1.0, -0.8, -0.6, -0.3999999999999999, -0.19999999999999996, 0.0,\n",
       "        0.20000000000000018, 0.40000000000000013, 0.6000000000000001, 0.8,\n",
       "        1.0], dtype=object),\n",
       " <BarContainer object of 10 artists>)"
      ]
     },
     "execution_count": 40,
     "metadata": {},
     "output_type": "execute_result"
    },
    {
     "data": {
      "image/png": "[encoded data removed]",
      "text/plain": [
       "<Figure size 640x480 with 1 Axes>"
      ]
     },
     "metadata": {},
     "output_type": "display_data"
    }
   ],
   "source": [
    "plt.hist(train_labels_svm)"
   ]
  },
  {
   "cell_type": "code",
   "execution_count": 32,
   "id": "bee0a5ab",
   "metadata": {},
   "outputs": [
    {
     "data": {
      "text/plain": [
       "array([-1, 1], dtype=object)"
      ]
     },
     "execution_count": 32,
     "metadata": {},
     "output_type": "execute_result"
    }
   ],
   "source": [
    "y_pred"
   ]
  },
  {
   "cell_type": "code",
   "execution_count": null,
   "id": "43ed6daa",
   "metadata": {},
   "outputs": [],
   "source": []
  },
  {
   "cell_type": "code",
   "execution_count": 47,
   "id": "22906bf7",
   "metadata": {},
   "outputs": [],
   "source": [
    "C = 100\n",
    "kernel = WLKernel(iterations=10).compute_kernel_matrix"
   ]
  },
  {
   "cell_type": "code",
   "execution_count": 48,
   "id": "d92a3a4a",
   "metadata": {},
   "outputs": [
    {
     "name": "stdout",
     "output_type": "stream",
     "text": [
      "Not computing phi again as X=Y\n",
      "Iteration 100\n",
      "Iteration 200\n",
      "Iteration 300\n",
      "Iteration 400\n",
      "Iteration 500\n",
      "Iteration 600\n",
      "Iteration 700\n",
      "Iteration 800\n",
      "Iteration 900\n",
      "Iteration 1000\n",
      "Iteration 1100\n",
      "Iteration 1200\n",
      "Iteration 1300\n",
      "Iteration 1400\n",
      "Iteration 1500\n",
      "Iteration 1600\n",
      "Iteration 1700\n",
      "Iteration 1800\n",
      "Iteration 1900\n",
      "Iteration 2000\n",
      "Iteration 2100\n",
      "Iteration 2200\n",
      "Iteration 2300\n",
      "Iteration 2400\n",
      "Iteration 2500\n",
      "Iteration 2600\n",
      "Iteration 2700\n",
      "Iteration 2800\n",
      "Iteration 2900\n",
      "Iteration 3000\n",
      "Iteration 3100\n",
      "Iteration 3200\n",
      "Iteration 3300\n",
      "Iteration 3400\n",
      "Iteration 3500\n",
      "Iteration 3600\n",
      "Iteration 3700\n",
      "Iteration 3800\n",
      "Iteration 3900\n",
      "Iteration 4000\n",
      "Iteration 4100\n",
      "Iteration 4200\n",
      "Iteration 4300\n",
      "Iteration 4400\n",
      "Iteration 4500\n",
      "Iteration 4600\n",
      "Iteration 4700\n",
      "Iteration 4800\n",
      "Iteration 4900\n",
      "Iteration 5000\n",
      "Iteration 5100\n",
      "Iteration 5200\n",
      "Iteration 5300\n",
      "Iteration 5400\n",
      "Iteration 5500\n",
      "Iteration 5600\n",
      "Iteration 5700\n",
      "Iteration 5800\n",
      "Iteration 5900\n",
      "Iteration 6000\n",
      "Kernel computed\n"
     ]
    }
   ],
   "source": [
    "K = kernel(train_data, train_data)"
   ]
  },
  {
   "cell_type": "code",
   "execution_count": 49,
   "id": "31b26bd9",
   "metadata": {},
   "outputs": [],
   "source": [
    "np.save('../data/WL_kernel_train_10it.npy', K)"
   ]
  },
  {
   "cell_type": "code",
   "execution_count": 53,
   "id": "c10eaf51",
   "metadata": {},
   "outputs": [
    {
     "name": "stdout",
     "output_type": "stream",
     "text": [
      "Kernel computed\n"
     ]
    }
   ],
   "source": [
    "K_test = kernel(test_data, train_data)"
   ]
  },
  {
   "cell_type": "code",
   "execution_count": 54,
   "id": "2597703b",
   "metadata": {},
   "outputs": [],
   "source": [
    "np.save('../data/WL_kernel_test_10it.npy', K_test)"
   ]
  },
  {
   "cell_type": "code",
   "execution_count": 27,
   "id": "6e918825",
   "metadata": {},
   "outputs": [
    {
     "data": {
      "text/plain": [
       "(2000, 6000)"
      ]
     },
     "execution_count": 27,
     "metadata": {},
     "output_type": "execute_result"
    }
   ],
   "source": [
    "K_test.shape"
   ]
  },
  {
   "cell_type": "code",
   "execution_count": 50,
   "id": "9bfc5aa3",
   "metadata": {},
   "outputs": [
    {
     "data": {
      "text/plain": [
       "SVC(C=100.0, kernel='precomputed')"
      ]
     },
     "execution_count": 50,
     "metadata": {},
     "output_type": "execute_result"
    }
   ],
   "source": [
    "C = 100.\n",
    "model = SVC(kernel='precomputed', C=C)\n",
    "#model = KernelSVC(C=C, kernel_mat=kernel)\n",
    "model.fit(K, train_labels_svm)"
   ]
  },
  {
   "cell_type": "code",
   "execution_count": 42,
   "id": "58ac2c42",
   "metadata": {},
   "outputs": [
    {
     "data": {
      "text/plain": [
       "array([[0.515625  , 0.14322917, 0.13888889, ..., 0.02083333, 0.28125   ,\n",
       "        0.02678571],\n",
       "       [0.14322917, 0.44791667, 0.11342593, ..., 0.        , 0.34895833,\n",
       "        0.00595238],\n",
       "       [0.13888889, 0.11342593, 0.45679012, ..., 0.        , 0.13888889,\n",
       "        0.01587302],\n",
       "       ...,\n",
       "       [0.02083333, 0.        , 0.        , ..., 1.38888889, 0.09375   ,\n",
       "        0.05952381],\n",
       "       [0.28125   , 0.34895833, 0.13888889, ..., 0.09375   , 1.2109375 ,\n",
       "        0.02232143],\n",
       "       [0.02678571, 0.00595238, 0.01587302, ..., 0.05952381, 0.02232143,\n",
       "        0.6122449 ]])"
      ]
     },
     "execution_count": 42,
     "metadata": {},
     "output_type": "execute_result"
    }
   ],
   "source": [
    "K"
   ]
  },
  {
   "cell_type": "code",
   "execution_count": 51,
   "id": "d38d2584",
   "metadata": {},
   "outputs": [],
   "source": [
    "test = model.predict(K)"
   ]
  },
  {
   "cell_type": "code",
   "execution_count": 52,
   "id": "74a62fe3",
   "metadata": {},
   "outputs": [
    {
     "name": "stdout",
     "output_type": "stream",
     "text": [
      "              precision    recall  f1-score   support\n",
      "\n",
      "          -1       1.00      1.00      1.00      5445\n",
      "           1       0.99      0.95      0.97       555\n",
      "\n",
      "    accuracy                           0.99      6000\n",
      "   macro avg       0.99      0.98      0.98      6000\n",
      "weighted avg       0.99      0.99      0.99      6000\n",
      "\n"
     ]
    }
   ],
   "source": [
    "from sklearn.metrics import classification_report\n",
    "print(classification_report(train_labels_svm, test))"
   ]
  },
  {
   "cell_type": "markdown",
   "id": "2c17baad",
   "metadata": {},
   "source": [
    "## Save to csv"
   ]
  },
  {
   "cell_type": "code",
   "execution_count": 22,
   "id": "a770fde1",
   "metadata": {},
   "outputs": [],
   "source": [
    "with open(test_path, \"rb\") as f:\n",
    "    test_data = pickle.load(f)\n",
    "    \n",
    "f.close()\n",
    "\n",
    "test_data = np.array(test_data, dtype=object)"
   ]
  },
  {
   "cell_type": "code",
   "execution_count": 29,
   "id": "842ae478",
   "metadata": {},
   "outputs": [],
   "source": [
    "test_preds = model.predict(K_test)"
   ]
  },
  {
   "cell_type": "code",
   "execution_count": 31,
   "id": "913ba404",
   "metadata": {},
   "outputs": [
    {
     "data": {
      "text/plain": [
       "array([-1, -1, -1, ..., -1,  1, -1])"
      ]
     },
     "execution_count": 31,
     "metadata": {},
     "output_type": "execute_result"
    }
   ],
   "source": [
    "test_preds"
   ]
  },
  {
   "cell_type": "code",
   "execution_count": 36,
   "id": "68a41226",
   "metadata": {},
   "outputs": [],
   "source": [
    "# original labels are in {0, 1}\n",
    "test_preds[test_preds == -1] = 0\n",
    "Yte = {'Predicted' : test_preds}\n",
    "dataframe = pd.DataFrame(Yte) \n",
    "dataframe.index += 1 \n",
    "dataframe.to_csv('../data/test_pred.csv',index_label='Id')"
   ]
  },
  {
   "cell_type": "code",
   "execution_count": 38,
   "id": "ed750587",
   "metadata": {},
   "outputs": [],
   "source": [
    "dataframe.to_csv('../data/test_pred.csv',index_label='Id')"
   ]
  },
  {
   "cell_type": "code",
   "execution_count": 52,
   "id": "7607595c",
   "metadata": {},
   "outputs": [],
   "source": [
    "df['Predicted'] = 0"
   ]
  },
  {
   "cell_type": "code",
   "execution_count": 57,
   "id": "f72c7bc1",
   "metadata": {},
   "outputs": [],
   "source": [
    "df.to_csv('../data/test_pred_zeros.csv', index=False)"
   ]
  },
  {
   "cell_type": "code",
   "execution_count": 49,
   "id": "004847ac",
   "metadata": {},
   "outputs": [],
   "source": [
    "df = pd.read_csv('../data/test_pred.csv')"
   ]
  },
  {
   "cell_type": "code",
   "execution_count": 56,
   "id": "e9abd959",
   "metadata": {},
   "outputs": [
    {
     "data": {
      "text/html": [
       "<div>\n",
       "<style scoped>\n",
       "    .dataframe tbody tr th:only-of-type {\n",
       "        vertical-align: middle;\n",
       "    }\n",
       "\n",
       "    .dataframe tbody tr th {\n",
       "        vertical-align: top;\n",
       "    }\n",
       "\n",
       "    .dataframe thead th {\n",
       "        text-align: right;\n",
       "    }\n",
       "</style>\n",
       "<table border=\"1\" class=\"dataframe\">\n",
       "  <thead>\n",
       "    <tr style=\"text-align: right;\">\n",
       "      <th></th>\n",
       "      <th>Id</th>\n",
       "      <th>Predicted</th>\n",
       "    </tr>\n",
       "  </thead>\n",
       "  <tbody>\n",
       "    <tr>\n",
       "      <th>0</th>\n",
       "      <td>1</td>\n",
       "      <td>0</td>\n",
       "    </tr>\n",
       "    <tr>\n",
       "      <th>1</th>\n",
       "      <td>2</td>\n",
       "      <td>0</td>\n",
       "    </tr>\n",
       "    <tr>\n",
       "      <th>2</th>\n",
       "      <td>3</td>\n",
       "      <td>0</td>\n",
       "    </tr>\n",
       "    <tr>\n",
       "      <th>3</th>\n",
       "      <td>4</td>\n",
       "      <td>0</td>\n",
       "    </tr>\n",
       "    <tr>\n",
       "      <th>4</th>\n",
       "      <td>5</td>\n",
       "      <td>0</td>\n",
       "    </tr>\n",
       "    <tr>\n",
       "      <th>...</th>\n",
       "      <td>...</td>\n",
       "      <td>...</td>\n",
       "    </tr>\n",
       "    <tr>\n",
       "      <th>1995</th>\n",
       "      <td>1996</td>\n",
       "      <td>0</td>\n",
       "    </tr>\n",
       "    <tr>\n",
       "      <th>1996</th>\n",
       "      <td>1997</td>\n",
       "      <td>0</td>\n",
       "    </tr>\n",
       "    <tr>\n",
       "      <th>1997</th>\n",
       "      <td>1998</td>\n",
       "      <td>0</td>\n",
       "    </tr>\n",
       "    <tr>\n",
       "      <th>1998</th>\n",
       "      <td>1999</td>\n",
       "      <td>0</td>\n",
       "    </tr>\n",
       "    <tr>\n",
       "      <th>1999</th>\n",
       "      <td>2000</td>\n",
       "      <td>0</td>\n",
       "    </tr>\n",
       "  </tbody>\n",
       "</table>\n",
       "<p>2000 rows × 2 columns</p>\n",
       "</div>"
      ],
      "text/plain": [
       "        Id  Predicted\n",
       "0        1          0\n",
       "1        2          0\n",
       "2        3          0\n",
       "3        4          0\n",
       "4        5          0\n",
       "...    ...        ...\n",
       "1995  1996          0\n",
       "1996  1997          0\n",
       "1997  1998          0\n",
       "1998  1999          0\n",
       "1999  2000          0\n",
       "\n",
       "[2000 rows x 2 columns]"
      ]
     },
     "execution_count": 56,
     "metadata": {},
     "output_type": "execute_result"
    }
   ],
   "source": [
    "df"
   ]
  },
  {
   "cell_type": "code",
   "execution_count": null,
   "id": "cb114b21",
   "metadata": {},
   "outputs": [],
   "source": []
  }
 ],
 "metadata": {
  "kernelspec": {
   "display_name": "mva",
   "language": "python",
   "name": "mva"
  },
  "language_info": {
   "codemirror_mode": {
    "name": "ipython",
    "version": 3
   },
   "file_extension": ".py",
   "mimetype": "text/x-python",
   "name": "python",
   "nbconvert_exporter": "python",
   "pygments_lexer": "ipython3",
   "version": "3.8.13"
  }
 },
 "nbformat": 4,
 "nbformat_minor": 5
}
